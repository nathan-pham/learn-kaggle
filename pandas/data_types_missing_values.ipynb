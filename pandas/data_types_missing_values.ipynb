{
 "cells": [
  {
   "cell_type": "markdown",
   "metadata": {},
   "source": [
    "# Data Types and Missing Values"
   ]
  }
 ],
 "metadata": {
  "interpreter": {
   "hash": "7a4cb90c3ae0c80a06579a1403fded5ebef87a8eac829b377709c1d59a985110"
  },
  "kernelspec": {
   "display_name": "Python 3.9.10 64-bit ('learn-kaggle-hd-C-WQJ': pipenv)",
   "language": "python",
   "name": "python3"
  },
  "language_info": {
   "name": "python",
   "version": "3.9.10"
  },
  "orig_nbformat": 4
 },
 "nbformat": 4,
 "nbformat_minor": 2
}
